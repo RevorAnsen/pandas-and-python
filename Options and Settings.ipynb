{
 "cells": [
  {
   "cell_type": "code",
   "execution_count": 2,
   "metadata": {
    "collapsed": true
   },
   "outputs": [],
   "source": [
    "import pandas as pd\n",
    "import numpy as np"
   ]
  },
  {
   "cell_type": "markdown",
   "metadata": {},
   "source": [
    "## Chaning Options with Attributes and Dot Syntax"
   ]
  },
  {
   "cell_type": "code",
   "execution_count": 4,
   "metadata": {
    "collapsed": false
   },
   "outputs": [],
   "source": [
    "data = np.random.randint(0, 100, [1000, 50])"
   ]
  },
  {
   "cell_type": "code",
   "execution_count": 8,
   "metadata": {
    "collapsed": false
   },
   "outputs": [
    {
     "data": {
      "text/html": [
       "<div>\n",
       "<table border=\"1\" class=\"dataframe\">\n",
       "  <thead>\n",
       "    <tr style=\"text-align: right;\">\n",
       "      <th></th>\n",
       "      <th>0</th>\n",
       "      <th>1</th>\n",
       "      <th>2</th>\n",
       "      <th>3</th>\n",
       "      <th>4</th>\n",
       "      <th>5</th>\n",
       "      <th>6</th>\n",
       "      <th>7</th>\n",
       "      <th>8</th>\n",
       "      <th>9</th>\n",
       "      <th>...</th>\n",
       "      <th>40</th>\n",
       "      <th>41</th>\n",
       "      <th>42</th>\n",
       "      <th>43</th>\n",
       "      <th>44</th>\n",
       "      <th>45</th>\n",
       "      <th>46</th>\n",
       "      <th>47</th>\n",
       "      <th>48</th>\n",
       "      <th>49</th>\n",
       "    </tr>\n",
       "  </thead>\n",
       "  <tbody>\n",
       "    <tr>\n",
       "      <th>998</th>\n",
       "      <td>24</td>\n",
       "      <td>15</td>\n",
       "      <td>92</td>\n",
       "      <td>11</td>\n",
       "      <td>5</td>\n",
       "      <td>7</td>\n",
       "      <td>55</td>\n",
       "      <td>9</td>\n",
       "      <td>68</td>\n",
       "      <td>30</td>\n",
       "      <td>...</td>\n",
       "      <td>45</td>\n",
       "      <td>14</td>\n",
       "      <td>28</td>\n",
       "      <td>96</td>\n",
       "      <td>95</td>\n",
       "      <td>3</td>\n",
       "      <td>39</td>\n",
       "      <td>70</td>\n",
       "      <td>13</td>\n",
       "      <td>82</td>\n",
       "    </tr>\n",
       "    <tr>\n",
       "      <th>999</th>\n",
       "      <td>62</td>\n",
       "      <td>49</td>\n",
       "      <td>58</td>\n",
       "      <td>65</td>\n",
       "      <td>82</td>\n",
       "      <td>36</td>\n",
       "      <td>64</td>\n",
       "      <td>37</td>\n",
       "      <td>47</td>\n",
       "      <td>57</td>\n",
       "      <td>...</td>\n",
       "      <td>78</td>\n",
       "      <td>15</td>\n",
       "      <td>46</td>\n",
       "      <td>60</td>\n",
       "      <td>58</td>\n",
       "      <td>20</td>\n",
       "      <td>24</td>\n",
       "      <td>44</td>\n",
       "      <td>55</td>\n",
       "      <td>93</td>\n",
       "    </tr>\n",
       "  </tbody>\n",
       "</table>\n",
       "<p>2 rows × 50 columns</p>\n",
       "</div>"
      ],
      "text/plain": [
       "     0   1   2   3   4   5   6   7   8   9  ...  40  41  42  43  44  45  46  \\\n",
       "998  24  15  92  11   5   7  55   9  68  30 ...  45  14  28  96  95   3  39   \n",
       "999  62  49  58  65  82  36  64  37  47  57 ...  78  15  46  60  58  20  24   \n",
       "\n",
       "     47  48  49  \n",
       "998  70  13  82  \n",
       "999  44  55  93  \n",
       "\n",
       "[2 rows x 50 columns]"
      ]
     },
     "execution_count": 8,
     "metadata": {},
     "output_type": "execute_result"
    }
   ],
   "source": [
    "df = pd.DataFrame(data)\n",
    "df.tail(2)"
   ]
  },
  {
   "cell_type": "code",
   "execution_count": 9,
   "metadata": {
    "collapsed": false
   },
   "outputs": [
    {
     "data": {
      "text/plain": [
       "60"
      ]
     },
     "execution_count": 9,
     "metadata": {},
     "output_type": "execute_result"
    }
   ],
   "source": [
    "pd.options.display.max_rows"
   ]
  },
  {
   "cell_type": "code",
   "execution_count": 24,
   "metadata": {
    "collapsed": true
   },
   "outputs": [],
   "source": [
    "pd.options.display.max_rows = 4"
   ]
  },
  {
   "cell_type": "code",
   "execution_count": 25,
   "metadata": {
    "collapsed": false
   },
   "outputs": [],
   "source": [
    "pd.options.display.max_columns = 8"
   ]
  },
  {
   "cell_type": "code",
   "execution_count": 26,
   "metadata": {
    "collapsed": false
   },
   "outputs": [
    {
     "data": {
      "text/html": [
       "<div>\n",
       "<table border=\"1\" class=\"dataframe\">\n",
       "  <thead>\n",
       "    <tr style=\"text-align: right;\">\n",
       "      <th></th>\n",
       "      <th>0</th>\n",
       "      <th>1</th>\n",
       "      <th>2</th>\n",
       "      <th>3</th>\n",
       "      <th>...</th>\n",
       "      <th>46</th>\n",
       "      <th>47</th>\n",
       "      <th>48</th>\n",
       "      <th>49</th>\n",
       "    </tr>\n",
       "  </thead>\n",
       "  <tbody>\n",
       "    <tr>\n",
       "      <th>0</th>\n",
       "      <td>76</td>\n",
       "      <td>73</td>\n",
       "      <td>16</td>\n",
       "      <td>91</td>\n",
       "      <td>...</td>\n",
       "      <td>98</td>\n",
       "      <td>14</td>\n",
       "      <td>28</td>\n",
       "      <td>73</td>\n",
       "    </tr>\n",
       "    <tr>\n",
       "      <th>1</th>\n",
       "      <td>73</td>\n",
       "      <td>73</td>\n",
       "      <td>60</td>\n",
       "      <td>79</td>\n",
       "      <td>...</td>\n",
       "      <td>7</td>\n",
       "      <td>6</td>\n",
       "      <td>72</td>\n",
       "      <td>72</td>\n",
       "    </tr>\n",
       "    <tr>\n",
       "      <th>...</th>\n",
       "      <td>...</td>\n",
       "      <td>...</td>\n",
       "      <td>...</td>\n",
       "      <td>...</td>\n",
       "      <td>...</td>\n",
       "      <td>...</td>\n",
       "      <td>...</td>\n",
       "      <td>...</td>\n",
       "      <td>...</td>\n",
       "    </tr>\n",
       "    <tr>\n",
       "      <th>998</th>\n",
       "      <td>24</td>\n",
       "      <td>15</td>\n",
       "      <td>92</td>\n",
       "      <td>11</td>\n",
       "      <td>...</td>\n",
       "      <td>39</td>\n",
       "      <td>70</td>\n",
       "      <td>13</td>\n",
       "      <td>82</td>\n",
       "    </tr>\n",
       "    <tr>\n",
       "      <th>999</th>\n",
       "      <td>62</td>\n",
       "      <td>49</td>\n",
       "      <td>58</td>\n",
       "      <td>65</td>\n",
       "      <td>...</td>\n",
       "      <td>24</td>\n",
       "      <td>44</td>\n",
       "      <td>55</td>\n",
       "      <td>93</td>\n",
       "    </tr>\n",
       "  </tbody>\n",
       "</table>\n",
       "<p>1000 rows × 50 columns</p>\n",
       "</div>"
      ],
      "text/plain": [
       "     0   1   2   3  ...  46  47  48  49\n",
       "0    76  73  16  91 ...  98  14  28  73\n",
       "1    73  73  60  79 ...   7   6  72  72\n",
       "..   ..  ..  ..  .. ...  ..  ..  ..  ..\n",
       "998  24  15  92  11 ...  39  70  13  82\n",
       "999  62  49  58  65 ...  24  44  55  93\n",
       "\n",
       "[1000 rows x 50 columns]"
      ]
     },
     "execution_count": 26,
     "metadata": {},
     "output_type": "execute_result"
    }
   ],
   "source": [
    "df"
   ]
  },
  {
   "cell_type": "markdown",
   "metadata": {},
   "source": [
    "## Changing pandas Options with Methods"
   ]
  },
  {
   "cell_type": "code",
   "execution_count": 27,
   "metadata": {
    "collapsed": false
   },
   "outputs": [
    {
     "data": {
      "text/html": [
       "<div>\n",
       "<table border=\"1\" class=\"dataframe\">\n",
       "  <thead>\n",
       "    <tr style=\"text-align: right;\">\n",
       "      <th></th>\n",
       "      <th>0</th>\n",
       "      <th>1</th>\n",
       "      <th>2</th>\n",
       "      <th>3</th>\n",
       "      <th>...</th>\n",
       "      <th>46</th>\n",
       "      <th>47</th>\n",
       "      <th>48</th>\n",
       "      <th>49</th>\n",
       "    </tr>\n",
       "  </thead>\n",
       "  <tbody>\n",
       "    <tr>\n",
       "      <th>998</th>\n",
       "      <td>60</td>\n",
       "      <td>53</td>\n",
       "      <td>39</td>\n",
       "      <td>86</td>\n",
       "      <td>...</td>\n",
       "      <td>35</td>\n",
       "      <td>50</td>\n",
       "      <td>49</td>\n",
       "      <td>89</td>\n",
       "    </tr>\n",
       "    <tr>\n",
       "      <th>999</th>\n",
       "      <td>46</td>\n",
       "      <td>52</td>\n",
       "      <td>64</td>\n",
       "      <td>62</td>\n",
       "      <td>...</td>\n",
       "      <td>44</td>\n",
       "      <td>98</td>\n",
       "      <td>98</td>\n",
       "      <td>55</td>\n",
       "    </tr>\n",
       "  </tbody>\n",
       "</table>\n",
       "<p>2 rows × 50 columns</p>\n",
       "</div>"
      ],
      "text/plain": [
       "     0   1   2   3  ...  46  47  48  49\n",
       "998  60  53  39  86 ...  35  50  49  89\n",
       "999  46  52  64  62 ...  44  98  98  55\n",
       "\n",
       "[2 rows x 50 columns]"
      ]
     },
     "execution_count": 27,
     "metadata": {},
     "output_type": "execute_result"
    }
   ],
   "source": [
    "data = np.random.randint(0, 100, [1000, 50])\n",
    "df = pd.DataFrame(data)\n",
    "df.tail(2)"
   ]
  },
  {
   "cell_type": "code",
   "execution_count": 28,
   "metadata": {
    "collapsed": false
   },
   "outputs": [
    {
     "data": {
      "text/plain": [
       "4"
      ]
     },
     "execution_count": 28,
     "metadata": {},
     "output_type": "execute_result"
    }
   ],
   "source": [
    "pd.get_option(\"max_rows\")"
   ]
  },
  {
   "cell_type": "code",
   "execution_count": 29,
   "metadata": {
    "collapsed": false
   },
   "outputs": [
    {
     "data": {
      "text/plain": [
       "8"
      ]
     },
     "execution_count": 29,
     "metadata": {},
     "output_type": "execute_result"
    }
   ],
   "source": [
    "pd.get_option(\"max_columns\")"
   ]
  },
  {
   "cell_type": "code",
   "execution_count": 30,
   "metadata": {
    "collapsed": true
   },
   "outputs": [],
   "source": [
    "pd.set_option(\"max_columns\", 20)"
   ]
  },
  {
   "cell_type": "code",
   "execution_count": 31,
   "metadata": {
    "collapsed": false
   },
   "outputs": [
    {
     "data": {
      "text/html": [
       "<div>\n",
       "<table border=\"1\" class=\"dataframe\">\n",
       "  <thead>\n",
       "    <tr style=\"text-align: right;\">\n",
       "      <th></th>\n",
       "      <th>0</th>\n",
       "      <th>1</th>\n",
       "      <th>2</th>\n",
       "      <th>3</th>\n",
       "      <th>4</th>\n",
       "      <th>5</th>\n",
       "      <th>6</th>\n",
       "      <th>7</th>\n",
       "      <th>8</th>\n",
       "      <th>9</th>\n",
       "      <th>...</th>\n",
       "      <th>40</th>\n",
       "      <th>41</th>\n",
       "      <th>42</th>\n",
       "      <th>43</th>\n",
       "      <th>44</th>\n",
       "      <th>45</th>\n",
       "      <th>46</th>\n",
       "      <th>47</th>\n",
       "      <th>48</th>\n",
       "      <th>49</th>\n",
       "    </tr>\n",
       "  </thead>\n",
       "  <tbody>\n",
       "    <tr>\n",
       "      <th>0</th>\n",
       "      <td>93</td>\n",
       "      <td>40</td>\n",
       "      <td>55</td>\n",
       "      <td>38</td>\n",
       "      <td>48</td>\n",
       "      <td>55</td>\n",
       "      <td>36</td>\n",
       "      <td>0</td>\n",
       "      <td>84</td>\n",
       "      <td>66</td>\n",
       "      <td>...</td>\n",
       "      <td>96</td>\n",
       "      <td>32</td>\n",
       "      <td>74</td>\n",
       "      <td>98</td>\n",
       "      <td>32</td>\n",
       "      <td>68</td>\n",
       "      <td>72</td>\n",
       "      <td>38</td>\n",
       "      <td>46</td>\n",
       "      <td>94</td>\n",
       "    </tr>\n",
       "    <tr>\n",
       "      <th>1</th>\n",
       "      <td>39</td>\n",
       "      <td>62</td>\n",
       "      <td>89</td>\n",
       "      <td>28</td>\n",
       "      <td>21</td>\n",
       "      <td>96</td>\n",
       "      <td>56</td>\n",
       "      <td>57</td>\n",
       "      <td>3</td>\n",
       "      <td>47</td>\n",
       "      <td>...</td>\n",
       "      <td>48</td>\n",
       "      <td>1</td>\n",
       "      <td>97</td>\n",
       "      <td>58</td>\n",
       "      <td>32</td>\n",
       "      <td>82</td>\n",
       "      <td>77</td>\n",
       "      <td>13</td>\n",
       "      <td>99</td>\n",
       "      <td>79</td>\n",
       "    </tr>\n",
       "    <tr>\n",
       "      <th>...</th>\n",
       "      <td>...</td>\n",
       "      <td>...</td>\n",
       "      <td>...</td>\n",
       "      <td>...</td>\n",
       "      <td>...</td>\n",
       "      <td>...</td>\n",
       "      <td>...</td>\n",
       "      <td>...</td>\n",
       "      <td>...</td>\n",
       "      <td>...</td>\n",
       "      <td>...</td>\n",
       "      <td>...</td>\n",
       "      <td>...</td>\n",
       "      <td>...</td>\n",
       "      <td>...</td>\n",
       "      <td>...</td>\n",
       "      <td>...</td>\n",
       "      <td>...</td>\n",
       "      <td>...</td>\n",
       "      <td>...</td>\n",
       "      <td>...</td>\n",
       "    </tr>\n",
       "    <tr>\n",
       "      <th>998</th>\n",
       "      <td>60</td>\n",
       "      <td>53</td>\n",
       "      <td>39</td>\n",
       "      <td>86</td>\n",
       "      <td>87</td>\n",
       "      <td>22</td>\n",
       "      <td>54</td>\n",
       "      <td>44</td>\n",
       "      <td>83</td>\n",
       "      <td>79</td>\n",
       "      <td>...</td>\n",
       "      <td>81</td>\n",
       "      <td>55</td>\n",
       "      <td>88</td>\n",
       "      <td>12</td>\n",
       "      <td>11</td>\n",
       "      <td>78</td>\n",
       "      <td>35</td>\n",
       "      <td>50</td>\n",
       "      <td>49</td>\n",
       "      <td>89</td>\n",
       "    </tr>\n",
       "    <tr>\n",
       "      <th>999</th>\n",
       "      <td>46</td>\n",
       "      <td>52</td>\n",
       "      <td>64</td>\n",
       "      <td>62</td>\n",
       "      <td>12</td>\n",
       "      <td>19</td>\n",
       "      <td>72</td>\n",
       "      <td>56</td>\n",
       "      <td>4</td>\n",
       "      <td>71</td>\n",
       "      <td>...</td>\n",
       "      <td>23</td>\n",
       "      <td>88</td>\n",
       "      <td>11</td>\n",
       "      <td>87</td>\n",
       "      <td>97</td>\n",
       "      <td>73</td>\n",
       "      <td>44</td>\n",
       "      <td>98</td>\n",
       "      <td>98</td>\n",
       "      <td>55</td>\n",
       "    </tr>\n",
       "  </tbody>\n",
       "</table>\n",
       "<p>1000 rows × 50 columns</p>\n",
       "</div>"
      ],
      "text/plain": [
       "     0   1   2   3   4   5   6   7   8   9  ...  40  41  42  43  44  45  46  \\\n",
       "0    93  40  55  38  48  55  36   0  84  66 ...  96  32  74  98  32  68  72   \n",
       "1    39  62  89  28  21  96  56  57   3  47 ...  48   1  97  58  32  82  77   \n",
       "..   ..  ..  ..  ..  ..  ..  ..  ..  ..  .. ...  ..  ..  ..  ..  ..  ..  ..   \n",
       "998  60  53  39  86  87  22  54  44  83  79 ...  81  55  88  12  11  78  35   \n",
       "999  46  52  64  62  12  19  72  56   4  71 ...  23  88  11  87  97  73  44   \n",
       "\n",
       "     47  48  49  \n",
       "0    38  46  94  \n",
       "1    13  99  79  \n",
       "..   ..  ..  ..  \n",
       "998  50  49  89  \n",
       "999  98  98  55  \n",
       "\n",
       "[1000 rows x 50 columns]"
      ]
     },
     "execution_count": 31,
     "metadata": {},
     "output_type": "execute_result"
    }
   ],
   "source": [
    "df"
   ]
  },
  {
   "cell_type": "code",
   "execution_count": 32,
   "metadata": {
    "collapsed": true
   },
   "outputs": [],
   "source": [
    "pd.reset_option(\"max_columns\")"
   ]
  },
  {
   "cell_type": "code",
   "execution_count": 33,
   "metadata": {
    "collapsed": true
   },
   "outputs": [],
   "source": [
    "pd.reset_option(\"max_rows\")"
   ]
  },
  {
   "cell_type": "code",
   "execution_count": 34,
   "metadata": {
    "collapsed": false
   },
   "outputs": [
    {
     "name": "stdout",
     "output_type": "stream",
     "text": [
      "display.max_columns : int\n",
      "    If max_cols is exceeded, switch to truncate view. Depending on\n",
      "    `large_repr`, objects are either centrally truncated or printed as\n",
      "    a summary view. 'None' value means unlimited.\n",
      "\n",
      "    In case python/IPython is running in a terminal and `large_repr`\n",
      "    equals 'truncate' this can be set to 0 and pandas will auto-detect\n",
      "    the width of the terminal and print a truncated object which fits\n",
      "    the screen width. The IPython notebook, IPython qtconsole, or IDLE\n",
      "    do not run in a terminal and hence it is not possible to do\n",
      "    correct auto-detection.\n",
      "    [default: 20] [currently: 20]\n",
      "\n",
      "\n"
     ]
    }
   ],
   "source": [
    "pd.describe_option(\"max_columns\")"
   ]
  },
  {
   "cell_type": "markdown",
   "metadata": {},
   "source": [
    "## The precision Option"
   ]
  },
  {
   "cell_type": "code",
   "execution_count": 37,
   "metadata": {
    "collapsed": false
   },
   "outputs": [
    {
     "data": {
      "text/html": [
       "<div>\n",
       "<table border=\"1\" class=\"dataframe\">\n",
       "  <thead>\n",
       "    <tr style=\"text-align: right;\">\n",
       "      <th></th>\n",
       "      <th>0</th>\n",
       "      <th>1</th>\n",
       "      <th>2</th>\n",
       "      <th>3</th>\n",
       "      <th>4</th>\n",
       "    </tr>\n",
       "  </thead>\n",
       "  <tbody>\n",
       "    <tr>\n",
       "      <th>0</th>\n",
       "      <td>-2.111108</td>\n",
       "      <td>0.633680</td>\n",
       "      <td>-0.467518</td>\n",
       "      <td>-0.120586</td>\n",
       "      <td>-0.411871</td>\n",
       "    </tr>\n",
       "    <tr>\n",
       "      <th>1</th>\n",
       "      <td>0.043177</td>\n",
       "      <td>-1.489629</td>\n",
       "      <td>-1.339435</td>\n",
       "      <td>0.113357</td>\n",
       "      <td>1.021456</td>\n",
       "    </tr>\n",
       "    <tr>\n",
       "      <th>2</th>\n",
       "      <td>-1.005900</td>\n",
       "      <td>-0.290897</td>\n",
       "      <td>0.394557</td>\n",
       "      <td>0.355352</td>\n",
       "      <td>0.260238</td>\n",
       "    </tr>\n",
       "    <tr>\n",
       "      <th>3</th>\n",
       "      <td>-0.208572</td>\n",
       "      <td>1.085249</td>\n",
       "      <td>-0.576456</td>\n",
       "      <td>-0.655936</td>\n",
       "      <td>-3.184727</td>\n",
       "    </tr>\n",
       "    <tr>\n",
       "      <th>4</th>\n",
       "      <td>0.135561</td>\n",
       "      <td>1.107196</td>\n",
       "      <td>-0.608937</td>\n",
       "      <td>-0.854763</td>\n",
       "      <td>0.715890</td>\n",
       "    </tr>\n",
       "  </tbody>\n",
       "</table>\n",
       "</div>"
      ],
      "text/plain": [
       "          0         1         2         3         4\n",
       "0 -2.111108  0.633680 -0.467518 -0.120586 -0.411871\n",
       "1  0.043177 -1.489629 -1.339435  0.113357  1.021456\n",
       "2 -1.005900 -0.290897  0.394557  0.355352  0.260238\n",
       "3 -0.208572  1.085249 -0.576456 -0.655936 -3.184727\n",
       "4  0.135561  1.107196 -0.608937 -0.854763  0.715890"
      ]
     },
     "execution_count": 37,
     "metadata": {},
     "output_type": "execute_result"
    }
   ],
   "source": [
    "df = pd.DataFrame(np.random.randn(5, 5))\n",
    "df"
   ]
  },
  {
   "cell_type": "code",
   "execution_count": 38,
   "metadata": {
    "collapsed": false
   },
   "outputs": [
    {
     "data": {
      "text/plain": [
       "6"
      ]
     },
     "execution_count": 38,
     "metadata": {},
     "output_type": "execute_result"
    }
   ],
   "source": [
    "pd.get_option(\"precision\")"
   ]
  },
  {
   "cell_type": "code",
   "execution_count": 39,
   "metadata": {
    "collapsed": true
   },
   "outputs": [],
   "source": [
    "pd.set_option(\"precision\", 2)"
   ]
  },
  {
   "cell_type": "code",
   "execution_count": 40,
   "metadata": {
    "collapsed": false
   },
   "outputs": [
    {
     "data": {
      "text/html": [
       "<div>\n",
       "<table border=\"1\" class=\"dataframe\">\n",
       "  <thead>\n",
       "    <tr style=\"text-align: right;\">\n",
       "      <th></th>\n",
       "      <th>0</th>\n",
       "      <th>1</th>\n",
       "      <th>2</th>\n",
       "      <th>3</th>\n",
       "      <th>4</th>\n",
       "    </tr>\n",
       "  </thead>\n",
       "  <tbody>\n",
       "    <tr>\n",
       "      <th>0</th>\n",
       "      <td>-2.11</td>\n",
       "      <td>0.63</td>\n",
       "      <td>-0.47</td>\n",
       "      <td>-0.12</td>\n",
       "      <td>-0.41</td>\n",
       "    </tr>\n",
       "    <tr>\n",
       "      <th>1</th>\n",
       "      <td>0.04</td>\n",
       "      <td>-1.49</td>\n",
       "      <td>-1.34</td>\n",
       "      <td>0.11</td>\n",
       "      <td>1.02</td>\n",
       "    </tr>\n",
       "    <tr>\n",
       "      <th>2</th>\n",
       "      <td>-1.01</td>\n",
       "      <td>-0.29</td>\n",
       "      <td>0.39</td>\n",
       "      <td>0.36</td>\n",
       "      <td>0.26</td>\n",
       "    </tr>\n",
       "    <tr>\n",
       "      <th>3</th>\n",
       "      <td>-0.21</td>\n",
       "      <td>1.09</td>\n",
       "      <td>-0.58</td>\n",
       "      <td>-0.66</td>\n",
       "      <td>-3.18</td>\n",
       "    </tr>\n",
       "    <tr>\n",
       "      <th>4</th>\n",
       "      <td>0.14</td>\n",
       "      <td>1.11</td>\n",
       "      <td>-0.61</td>\n",
       "      <td>-0.85</td>\n",
       "      <td>0.72</td>\n",
       "    </tr>\n",
       "  </tbody>\n",
       "</table>\n",
       "</div>"
      ],
      "text/plain": [
       "      0     1     2     3     4\n",
       "0 -2.11  0.63 -0.47 -0.12 -0.41\n",
       "1  0.04 -1.49 -1.34  0.11  1.02\n",
       "2 -1.01 -0.29  0.39  0.36  0.26\n",
       "3 -0.21  1.09 -0.58 -0.66 -3.18\n",
       "4  0.14  1.11 -0.61 -0.85  0.72"
      ]
     },
     "execution_count": 40,
     "metadata": {},
     "output_type": "execute_result"
    }
   ],
   "source": [
    "df"
   ]
  },
  {
   "cell_type": "code",
   "execution_count": 41,
   "metadata": {
    "collapsed": true
   },
   "outputs": [],
   "source": [
    "pd.reset_option(\"precision\")"
   ]
  },
  {
   "cell_type": "code",
   "execution_count": 42,
   "metadata": {
    "collapsed": false
   },
   "outputs": [
    {
     "data": {
      "text/html": [
       "<div>\n",
       "<table border=\"1\" class=\"dataframe\">\n",
       "  <thead>\n",
       "    <tr style=\"text-align: right;\">\n",
       "      <th></th>\n",
       "      <th>0</th>\n",
       "      <th>1</th>\n",
       "      <th>2</th>\n",
       "      <th>3</th>\n",
       "      <th>4</th>\n",
       "    </tr>\n",
       "  </thead>\n",
       "  <tbody>\n",
       "    <tr>\n",
       "      <th>0</th>\n",
       "      <td>-2.111108</td>\n",
       "      <td>0.633680</td>\n",
       "      <td>-0.467518</td>\n",
       "      <td>-0.120586</td>\n",
       "      <td>-0.411871</td>\n",
       "    </tr>\n",
       "    <tr>\n",
       "      <th>1</th>\n",
       "      <td>0.043177</td>\n",
       "      <td>-1.489629</td>\n",
       "      <td>-1.339435</td>\n",
       "      <td>0.113357</td>\n",
       "      <td>1.021456</td>\n",
       "    </tr>\n",
       "    <tr>\n",
       "      <th>2</th>\n",
       "      <td>-1.005900</td>\n",
       "      <td>-0.290897</td>\n",
       "      <td>0.394557</td>\n",
       "      <td>0.355352</td>\n",
       "      <td>0.260238</td>\n",
       "    </tr>\n",
       "    <tr>\n",
       "      <th>3</th>\n",
       "      <td>-0.208572</td>\n",
       "      <td>1.085249</td>\n",
       "      <td>-0.576456</td>\n",
       "      <td>-0.655936</td>\n",
       "      <td>-3.184727</td>\n",
       "    </tr>\n",
       "    <tr>\n",
       "      <th>4</th>\n",
       "      <td>0.135561</td>\n",
       "      <td>1.107196</td>\n",
       "      <td>-0.608937</td>\n",
       "      <td>-0.854763</td>\n",
       "      <td>0.715890</td>\n",
       "    </tr>\n",
       "  </tbody>\n",
       "</table>\n",
       "</div>"
      ],
      "text/plain": [
       "          0         1         2         3         4\n",
       "0 -2.111108  0.633680 -0.467518 -0.120586 -0.411871\n",
       "1  0.043177 -1.489629 -1.339435  0.113357  1.021456\n",
       "2 -1.005900 -0.290897  0.394557  0.355352  0.260238\n",
       "3 -0.208572  1.085249 -0.576456 -0.655936 -3.184727\n",
       "4  0.135561  1.107196 -0.608937 -0.854763  0.715890"
      ]
     },
     "execution_count": 42,
     "metadata": {},
     "output_type": "execute_result"
    }
   ],
   "source": [
    "df"
   ]
  },
  {
   "cell_type": "code",
   "execution_count": null,
   "metadata": {
    "collapsed": true
   },
   "outputs": [],
   "source": []
  }
 ],
 "metadata": {
  "kernelspec": {
   "display_name": "Python [conda root]",
   "language": "python",
   "name": "conda-root-py"
  },
  "language_info": {
   "codemirror_mode": {
    "name": "ipython",
    "version": 3
   },
   "file_extension": ".py",
   "mimetype": "text/x-python",
   "name": "python",
   "nbconvert_exporter": "python",
   "pygments_lexer": "ipython3",
   "version": "3.5.2"
  }
 },
 "nbformat": 4,
 "nbformat_minor": 2
}
